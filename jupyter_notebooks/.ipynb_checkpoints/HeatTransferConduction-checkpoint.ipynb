{
 "cells": [
  {
   "cell_type": "markdown",
   "metadata": {},
   "source": [
    "## Heat Transfer Calculations\n",
    "This jupyter notebook walks through basic heat transfer calculations.\n",
    "\n",
    "There are three basic types of heat transfer:\n",
    "1. Conduction\n",
    "1. Convection\n",
    "1. Radiation\n",
    "\n",
    "This tutorial will use numpy and matplotlib which are imported below."
   ]
  },
  {
   "cell_type": "code",
   "execution_count": 1,
   "metadata": {
    "collapsed": false
   },
   "outputs": [],
   "source": [
    "import numpy as np\n",
    "import matplotlib.pyplot as plt"
   ]
  },
  {
   "cell_type": "markdown",
   "metadata": {},
   "source": [
    "## 1. Conduction\n",
    "Conduction is defined as the transfer of heat through matter without motion. Before getting into a detailed derivation of the heat equation, lets take a parochial look at heat transfer analysis. \n",
    "\n",
    "### Thermal Resistance Circuits\n",
    "An analogy between conduction heat transfer and electric circuits can be exploited to aid in problem solving. $\\dot{Q}$, the rate of heat transfer, is analogous to current, and $R$, thermal resistance, is analogous to electric resistance. Thus we can define $\\dot{Q}$.\n",
    "$$\\dot{Q} = \\frac{T_1 - T_2}{R}$$.\n",
    "\n",
    "<!-- resistive model of heat transfer through a composite slab -->\n",
    "<img src=\"assets/HeatTransferConduction_CompositeSlab.PNG\">\n",
    "\n",
    "Lets run through an example using this resistive model. \n",
    "\n",
    "__Example: 2D Brick Wall__\n",
    "A brick wall with thermal insulation on both sides has temperatures $T_1, T_2, T_3, T_4$ which are defined in the image below. Thus, we have __four nodes__ in our resistive model, and __three thermal resistances__.\n",
    "\n",
    "<!-- Example 1: Heat Transfer through brick wall using resistive model -->\n",
    "<img src=\"assets/HeatTransferConduction_Example1.PNG\">\n",
    "\n",
    "$k$ is the thermal conductivity.\n",
    "\n",
    "$$ k_{brick} = k_2 = 0.7 W/m-K $$\n",
    "$$ k_{insulation} = k_1 = k_3 = 0.07 W/m-K $$\n",
    "$$ A_1 = A_2 = A_3 = A $$\n",
    "$$ L1 = L3 = 0.03 $$ \n",
    "$$ L2 = 0.1 $$\n",
    "\n",
    "The overall resistance is:\n",
    "$$ R = R_1 + R_2 + R_3 = \\frac{L_1}{k_1 A_1} + \\frac{L_2}{k_2 A_2} + \\frac{L_3}{k_3 A_3} $$\n",
    "\n",
    "Solving with an arbitrary Area, $A$, we get\n",
    "$$ A_1 R_1 = \\frac{L_1}{k_1},  A_2 R_2 = \\frac{L_2}{k_2}, A_3 R_3 = \\frac{L_3}{k_3} $$\n",
    "\n",
    "Lets define calculate values of $AR$"
   ]
  },
  {
   "cell_type": "code",
   "execution_count": 2,
   "metadata": {
    "collapsed": false
   },
   "outputs": [
    {
     "name": "stdout",
     "output_type": "stream",
     "text": [
      "[0.4285714285714285, 0.14285714285714288, 0.4285714285714285] m^2 K/W\n"
     ]
    }
   ],
   "source": [
    "# Temperatures at stations\n",
    "T1 = 150\n",
    "T4 = 10  # celcius\n",
    "# define values for thermal conductivity\n",
    "k = [0.07, 0.7, 0.07]\n",
    "# Length of layers\n",
    "L = [0.03, 0.1, 0.03]\n",
    "\n",
    "AR = []  # initialize empty array\n",
    "for i in range(0,len(k)):\n",
    "    AR.append(L[i]/k[i])\n",
    "\n",
    "print(AR, \"m^2 K/W\")"
   ]
  },
  {
   "cell_type": "markdown",
   "metadata": {},
   "source": [
    "These values can be used to calculate $\\dot{Q}$ the rate of heat transfer. This can be related to a more physically relevant value, $\\dot{q}$, the heat flux. Where,\n",
    "$$ \\dot{q} = \\frac{\\dot{q}}{A} = \\frac{T_1 - T_4}{RA} $$\n",
    "$$ RA = \\sum_{n}{AR_n} $$"
   ]
  },
  {
   "cell_type": "code",
   "execution_count": 3,
   "metadata": {
    "collapsed": false
   },
   "outputs": [
    {
     "name": "stdout",
     "output_type": "stream",
     "text": [
      "140.0\n"
     ]
    }
   ],
   "source": [
    "q = float(T1 - T4)/np.sum(AR)\n",
    "print(q)  # W/m^2"
   ]
  },
  {
   "cell_type": "markdown",
   "metadata": {},
   "source": [
    "The temperature in the intermediary steps can be found using the fact that $\\dot{Q}$ is constant throughout the slab.\n",
    "\n",
    "$$ \\dot{q} = \\frac{T1 - T2}{R_1 A} $$"
   ]
  },
  {
   "cell_type": "code",
   "execution_count": 4,
   "metadata": {
    "collapsed": false
   },
   "outputs": [
    {
     "name": "stdout",
     "output_type": "stream",
     "text": [
      "90.0\n",
      "70.0\n"
     ]
    }
   ],
   "source": [
    "T2 = -q*AR[0] + T1\n",
    "T3 = q*AR[2] + T4\n",
    "print(T2)\n",
    "print(T3)"
   ]
  },
  {
   "cell_type": "markdown",
   "metadata": {
    "collapsed": true
   },
   "source": [
    "### Derivation of the Heat Equation for Conduction\n",
    "\n",
    "Consider a one-dimensional rod. We want to determine the temperature at any point, x, at any time, t; T(x,t). Lets start by defining a physical model.\n",
    "\n",
    "<!-- image of 1D rod -->\n",
    "<img src=\"assets/HeatTransferConduction_1Drod.gif\">\n",
    "\n",
    "We define energy density as the energy per unit volume, and heat flux, $\\Phi$, as the energy per unit time per unit area.\n",
    "\n",
    "$$\\Phi = \\frac{energy}{(area)(time)}$$\n",
    "\n",
    "So looking back at our rod, the heat flux in and out of the rod is one methof of changing the energy density of our rod at a given time. Steady-state is therefore defined as..\n",
    "$$ \\Sigma \\Phi = 0 $$\n",
    "\n",
    "$\\Theta$, the heat generated/dissipated per unit time, is another physical phenomenon through which the energy density in an object can change."
   ]
  },
  {
   "cell_type": "markdown",
   "metadata": {},
   "source": [
    "## References\n",
    "\n",
    "1. _Introduction to Engineering Heat Transfer_ https://ocw.mit.edu/courses/aeronautics-and-astronautics/16-050-thermal-energy-fall-2002/lecture-notes/10_part3.pdf"
   ]
  },
  {
   "cell_type": "code",
   "execution_count": null,
   "metadata": {
    "collapsed": true
   },
   "outputs": [],
   "source": []
  }
 ],
 "metadata": {
  "kernelspec": {
   "display_name": "Python 3",
   "language": "python",
   "name": "python3"
  },
  "language_info": {
   "codemirror_mode": {
    "name": "ipython",
    "version": 3
   },
   "file_extension": ".py",
   "mimetype": "text/x-python",
   "name": "python",
   "nbconvert_exporter": "python",
   "pygments_lexer": "ipython3",
   "version": "3.6.0"
  }
 },
 "nbformat": 4,
 "nbformat_minor": 2
}
