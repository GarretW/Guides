{
 "cells": [
  {
   "cell_type": "markdown",
   "metadata": {},
   "source": [
    "# Heat Transfer Calculations\n",
    "This jupyter notebook walks through basic heat transfer calculations.\n",
    "\n",
    "There are three basic types of heat transfer:\n",
    "1. Conduction\n",
    "1. Convection\n",
    "1. Radiation\n",
    "\n",
    "This tutorial will use numpy and matplotlib which are imported below."
   ]
  },
  {
   "cell_type": "code",
   "execution_count": 1,
   "metadata": {
    "collapsed": false
   },
   "outputs": [],
   "source": [
    "import numpy as np\n",
    "import matplotlib.pyplot as plt"
   ]
  },
  {
   "cell_type": "markdown",
   "metadata": {},
   "source": [
    "### 1. Conduction\n",
    "Conduction is defined as the transfer of heat through matter without motion.\n",
    "\n",
    "Consider a one-dimensional rod. We want to determine the temperature at any point, x, at any time, t; T(x,t). Lets start by defining a physical model.\n",
    "\n",
    "<!-- image of 1D rod -->\n",
    "<img src=\"assets/heat_transfer/1d_rod.gif\">\n",
    "\n",
    "We define energy density as the energy per unit volume, and heat flux, $\\Phi$, as the energy per unit time per unit area.\n",
    "\n",
    "$$\\Phi = \\frac{energy}{(area)(time)}$$\n",
    "\n",
    "So looking back at our rod, the heat flux in and out defines the change in energy density of our rod at a given time. Steady-state is therefore defined as..\n",
    "$$ \\Sigma \\Phi = 0 $$\n",
    "\n",
    "Define $\\Theta$ as the heat generated/dissipated per unit time."
   ]
  },
  {
   "cell_type": "code",
   "execution_count": null,
   "metadata": {
    "collapsed": true
   },
   "outputs": [],
   "source": [
    "\n"
   ]
  }
 ],
 "metadata": {
  "kernelspec": {
   "display_name": "Python 3",
   "language": "python",
   "name": "python3"
  },
  "language_info": {
   "codemirror_mode": {
    "name": "ipython",
    "version": 3
   },
   "file_extension": ".py",
   "mimetype": "text/x-python",
   "name": "python",
   "nbconvert_exporter": "python",
   "pygments_lexer": "ipython3",
   "version": "3.6.0"
  }
 },
 "nbformat": 4,
 "nbformat_minor": 2
}
